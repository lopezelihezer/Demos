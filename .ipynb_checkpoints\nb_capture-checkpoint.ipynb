{
 "cells": [
  {
   "cell_type": "code",
   "execution_count": 1,
   "id": "4d32135f",
   "metadata": {},
   "outputs": [],
   "source": [
    "from __future__ import print_function\n",
    "import sys"
   ]
  },
  {
   "cell_type": "code",
   "execution_count": 13,
   "id": "225088ca",
   "metadata": {},
   "outputs": [],
   "source": [
    "%%capture myCapture\n",
    "print(\"This is standard output\")\n",
    "print(\"This was added\")\n",
    "print(\"This is standard error\", file=sys.stderr)"
   ]
  },
  {
   "cell_type": "code",
   "execution_count": 14,
   "id": "d5ba0c82",
   "metadata": {},
   "outputs": [
    {
     "data": {
      "text/plain": [
       "<IPython.utils.capture.CapturedIO at 0x2516b673820>"
      ]
     },
     "execution_count": 14,
     "metadata": {},
     "output_type": "execute_result"
    }
   ],
   "source": [
    "myCapture # object"
   ]
  },
  {
   "cell_type": "code",
   "execution_count": 15,
   "id": "d5dfa571",
   "metadata": {},
   "outputs": [
    {
     "name": "stdout",
     "output_type": "stream",
     "text": [
      "This is standard output\n",
      "This was added\n"
     ]
    },
    {
     "name": "stderr",
     "output_type": "stream",
     "text": [
      "This is standard error\n"
     ]
    }
   ],
   "source": [
    "myCapture() # function"
   ]
  },
  {
   "cell_type": "code",
   "execution_count": 8,
   "id": "097e6bb8",
   "metadata": {},
   "outputs": [
    {
     "data": {
      "text/plain": [
       "'This is standard output\\n'"
      ]
     },
     "execution_count": 8,
     "metadata": {},
     "output_type": "execute_result"
    }
   ],
   "source": [
    "myCapture.stdout"
   ]
  },
  {
   "cell_type": "code",
   "execution_count": 9,
   "id": "47743f96",
   "metadata": {},
   "outputs": [
    {
     "data": {
      "text/plain": [
       "'This is standard error\\n'"
      ]
     },
     "execution_count": 9,
     "metadata": {},
     "output_type": "execute_result"
    }
   ],
   "source": [
    "myCapture.stderr"
   ]
  },
  {
   "cell_type": "code",
   "execution_count": 10,
   "id": "3fe4fed6",
   "metadata": {},
   "outputs": [],
   "source": [
    "import numpy as np\n",
    "import matplotlib.pyplot as plt"
   ]
  },
  {
   "cell_type": "code",
   "execution_count": 11,
   "id": "c8b17d53",
   "metadata": {},
   "outputs": [],
   "source": [
    "%%capture myVerboseplot\n",
    "print(\"Building x-axis data points...\")\n",
    "x = np.linspace(0,5,300)\n",
    "print(\"Building y-axis data points...\")\n",
    "y = np.cos(x)\n",
    "print(\"Performing plot and labeling axes...\")\n",
    "plt.plot(x,y)\n",
    "plt.xlabel('x')\n",
    "plt.ylabel('cos(x)')\n",
    "print(\"Displaying plot now: \")\n",
    "plt.show()"
   ]
  },
  {
   "cell_type": "code",
   "execution_count": 12,
   "id": "2390a937",
   "metadata": {},
   "outputs": [
    {
     "name": "stdout",
     "output_type": "stream",
     "text": [
      "Building x-axis data points...\n",
      "Building y-axis data points...\n",
      "Performing plot and labeling axes...\n",
      "Displaying plot now: \n"
     ]
    },
    {
     "data": {
      "image/png": "[encoded data removed]",
      "text/plain": [
       "<Figure size 432x288 with 1 Axes>"
      ]
     },
     "metadata": {
      "needs_background": "light"
     },
     "output_type": "display_data"
    }
   ],
   "source": [
    "myVerboseplot()"
   ]
  },
  {
   "cell_type": "code",
   "execution_count": null,
   "id": "cee9c170",
   "metadata": {},
   "outputs": [],
   "source": []
  }
 ],
 "metadata": {
  "kernelspec": {
   "display_name": "Python 3 (ipykernel)",
   "language": "python",
   "name": "python3"
  },
  "language_info": {
   "codemirror_mode": {
    "name": "ipython",
    "version": 3
   },
   "file_extension": ".py",
   "mimetype": "text/x-python",
   "name": "python",
   "nbconvert_exporter": "python",
   "pygments_lexer": "ipython3",
   "version": "3.9.7"
  }
 },
 "nbformat": 4,
 "nbformat_minor": 5
}
