{
 "cells": [
  {
   "cell_type": "markdown",
   "id": "c6b1d5b9-0fcf-417d-b126-929a8a3c3a59",
   "metadata": {},
   "source": [
    "# Python Check"
   ]
  },
  {
   "cell_type": "code",
   "execution_count": 2,
   "id": "7f0b6569-fac9-40c7-8010-a04b09b16ca4",
   "metadata": {},
   "outputs": [
    {
     "data": {
      "text/plain": [
       "6"
      ]
     },
     "execution_count": 2,
     "metadata": {},
     "output_type": "execute_result"
    }
   ],
   "source": [
    "3 + 3"
   ]
  },
  {
   "cell_type": "code",
   "execution_count": 3,
   "id": "10048341-f535-4c90-858c-02a3e9789035",
   "metadata": {},
   "outputs": [],
   "source": [
    "num1 = 6 + 3\n",
    "num2 = 9"
   ]
  },
  {
   "cell_type": "code",
   "execution_count": 4,
   "id": "2f8536b0-6198-4ecf-a899-8b57d57dd184",
   "metadata": {},
   "outputs": [
    {
     "data": {
      "text/plain": [
       "True"
      ]
     },
     "execution_count": 4,
     "metadata": {},
     "output_type": "execute_result"
    }
   ],
   "source": [
    "num1 == num2"
   ]
  },
  {
   "cell_type": "markdown",
   "id": "afb2a4a1-8dfc-4cdd-94f4-4e0d8c5d76d4",
   "metadata": {},
   "source": [
    "##"
   ]
  },
  {
   "cell_type": "code",
   "execution_count": 1,
   "id": "2ae4e857-b7db-4f47-9455-2cf01e36176f",
   "metadata": {},
   "outputs": [],
   "source": []
  },
  {
   "cell_type": "code",
   "execution_count": null,
   "id": "470b629c-21fa-44ce-a77b-8c63a2aba68a",
   "metadata": {},
   "outputs": [],
   "source": []
  }
 ],
 "metadata": {
  "kernelspec": {
   "display_name": "Python 3",
   "language": "python",
   "name": "python3"
  },
  "language_info": {
   "codemirror_mode": {
    "name": "ipython",
    "version": 3
   },
   "file_extension": ".py",
   "mimetype": "text/x-python",
   "name": "python",
   "nbconvert_exporter": "python",
   "pygments_lexer": "ipython3",
   "version": "3.8.8"
  }
 },
 "nbformat": 4,
 "nbformat_minor": 5
}
