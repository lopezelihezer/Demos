{
 "cells": [
  {
   "cell_type": "markdown",
   "id": "c6b1d5b9-0fcf-417d-b126-929a8a3c3a59",
   "metadata": {},
   "source": [
    "# Python Check"
   ]
  },
  {
   "cell_type": "code",
   "execution_count": 1,
   "id": "7f0b6569-fac9-40c7-8010-a04b09b16ca4",
   "metadata": {},
   "outputs": [
    {
     "data": {
      "text/plain": [
       "6"
      ]
     },
     "execution_count": 1,
     "metadata": {},
     "output_type": "execute_result"
    }
   ],
   "source": [
    "3 + 3"
   ]
  },
  {
   "cell_type": "code",
   "execution_count": 2,
   "id": "10048341-f535-4c90-858c-02a3e9789035",
   "metadata": {},
   "outputs": [],
   "source": [
    "num1 = 6 + 3\n",
    "num2 = 9"
   ]
  },
  {
   "cell_type": "code",
   "execution_count": 3,
   "id": "2f8536b0-6198-4ecf-a899-8b57d57dd184",
   "metadata": {},
   "outputs": [
    {
     "data": {
      "text/plain": [
       "True"
      ]
     },
     "execution_count": 3,
     "metadata": {},
     "output_type": "execute_result"
    }
   ],
   "source": [
    "num1 == num2"
   ]
  },
  {
   "cell_type": "code",
   "execution_count": null,
   "id": "5da4b3af-0d5c-43e1-bc99-ad146dc29a49",
   "metadata": {},
   "outputs": [],
   "source": []
  }
 ],
 "metadata": {
  "kernelspec": {
   "display_name": "Python 3 (ipykernel)",
   "language": "python",
   "name": "python3"
  },
  "language_info": {
   "codemirror_mode": {
    "name": "ipython",
    "version": 3
   },
   "file_extension": ".py",
   "mimetype": "text/x-python",
   "name": "python",
   "nbconvert_exporter": "python",
   "pygments_lexer": "ipython3",
   "version": "3.9.7"
  }
 },
 "nbformat": 4,
 "nbformat_minor": 5
}
