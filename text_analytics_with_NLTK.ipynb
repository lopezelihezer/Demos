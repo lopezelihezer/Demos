{
 "cells": [
  {
   "cell_type": "markdown",
   "id": "3c59085e",
   "metadata": {},
   "source": [
    "# NLTK Text Analytics"
   ]
  },
  {
   "cell_type": "code",
   "execution_count": 1,
   "id": "8c54b59f",
   "metadata": {},
   "outputs": [],
   "source": [
    "import nltk"
   ]
  },
  {
   "cell_type": "code",
   "execution_count": 7,
   "id": "2985f93f",
   "metadata": {},
   "outputs": [
    {
     "name": "stdout",
     "output_type": "stream",
     "text": [
      "showing info https://raw.githubusercontent.com/nltk/nltk_data/gh-pages/index.xml\n"
     ]
    },
    {
     "data": {
      "text/plain": [
       "True"
      ]
     },
     "execution_count": 7,
     "metadata": {},
     "output_type": "execute_result"
    }
   ],
   "source": [
    "nltk.download()"
   ]
  },
  {
   "cell_type": "code",
   "execution_count": 4,
   "id": "e3a1b6c0",
   "metadata": {},
   "outputs": [],
   "source": [
    "from nltk.tokenize import sent_tokenize, word_tokenize"
   ]
  },
  {
   "cell_type": "code",
   "execution_count": 5,
   "id": "8ae6aed1",
   "metadata": {},
   "outputs": [],
   "source": [
    "testText = \"This is some text to test. Testing sentence tokenization. Testing word tokenization. A corpus is a large collection fo structured texts. It is very interesting to see the different ways in which we can analyze bodies of texts for classification, tokenization, and parsing, among other things.\""
   ]
  },
  {
   "cell_type": "code",
   "execution_count": 8,
   "id": "7b9cae01",
   "metadata": {},
   "outputs": [
    {
     "name": "stdout",
     "output_type": "stream",
     "text": [
      "['This is some text to test.', 'Testing sentence tokenization.', 'Testing word tokenization.', 'A corpus is a large collection fo structured texts.', 'It is very interesting to see the different ways in which we can analyze bodies of texts for classification, tokenization, and parsing, among other things.']\n"
     ]
    }
   ],
   "source": [
    "print(sent_tokenize(testText))"
   ]
  },
  {
   "cell_type": "code",
   "execution_count": 9,
   "id": "ee53e17f",
   "metadata": {},
   "outputs": [
    {
     "data": {
      "text/plain": [
       "['This is some text to test.',\n",
       " 'Testing sentence tokenization.',\n",
       " 'Testing word tokenization.',\n",
       " 'A corpus is a large collection fo structured texts.',\n",
       " 'It is very interesting to see the different ways in which we can analyze bodies of texts for classification, tokenization, and parsing, among other things.']"
      ]
     },
     "execution_count": 9,
     "metadata": {},
     "output_type": "execute_result"
    }
   ],
   "source": [
    "sent_tokenize(testText)"
   ]
  },
  {
   "cell_type": "code",
   "execution_count": 11,
   "id": "649d18e3",
   "metadata": {},
   "outputs": [
    {
     "data": {
      "text/plain": [
       "True"
      ]
     },
     "execution_count": 11,
     "metadata": {},
     "output_type": "execute_result"
    }
   ],
   "source": [
    "isinstance(sent_tokenize(testText), list)\n",
    "# checks to see if this is a list"
   ]
  },
  {
   "cell_type": "code",
   "execution_count": 13,
   "id": "4ea3124e",
   "metadata": {},
   "outputs": [
    {
     "data": {
      "text/plain": [
       "3"
      ]
     },
     "execution_count": 13,
     "metadata": {},
     "output_type": "execute_result"
    }
   ],
   "source": [
    "word_tokenize(testText).count('tokenization')"
   ]
  },
  {
   "cell_type": "code",
   "execution_count": null,
   "id": "fb8f1743",
   "metadata": {},
   "outputs": [],
   "source": []
  }
 ],
 "metadata": {
  "kernelspec": {
   "display_name": "Python 3 (ipykernel)",
   "language": "python",
   "name": "python3"
  },
  "language_info": {
   "codemirror_mode": {
    "name": "ipython",
    "version": 3
   },
   "file_extension": ".py",
   "mimetype": "text/x-python",
   "name": "python",
   "nbconvert_exporter": "python",
   "pygments_lexer": "ipython3",
   "version": "3.9.7"
  }
 },
 "nbformat": 4,
 "nbformat_minor": 5
}
